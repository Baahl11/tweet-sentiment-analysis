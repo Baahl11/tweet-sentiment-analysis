{
 "cells": [
  {
   "cell_type": "code",
   "execution_count": 2,
   "id": "d9fd653d-87d0-4497-a996-da379bd1bebf",
   "metadata": {},
   "outputs": [],
   "source": [
    "# Importar librerías necesarias\n",
    "import pandas as pd\n",
    "import matplotlib.pyplot as plt\n",
    "import re\n",
    "import string\n",
    "\n",
    "# Importar la clase del paquete (ahora debería funcionar)\n",
    "from sentiment_analysis_spanish.sentiment_analysis import SentimentAnalysisSpanish\n"
   ]
  },
  {
   "cell_type": "code",
   "execution_count": 4,
   "id": "89a16fef-1684-4970-a4f3-5eb19d25d09e",
   "metadata": {},
   "outputs": [],
   "source": [
    "# Función para limpiar el tweet\n",
    "def limpiar_tweet(tweet):\n",
    "    tweet = tweet.lower()  # Convertir a minúsculas\n",
    "    tweet = re.sub(r'http\\S+|www.\\S+', '', tweet)  # Eliminar URLs\n",
    "    tweet = re.sub(r'@\\w+', '', tweet)  # Eliminar menciones\n",
    "    tweet = re.sub(r'#', '', tweet)  # Eliminar símbolos de hashtag (conservar la palabra)\n",
    "    # Conservar signos de exclamación e interrogación y eliminar el resto de la puntuación\n",
    "    allowed_punctuation = \"!?\"\n",
    "    punctuation_to_remove = ''.join(ch for ch in string.punctuation if ch not in allowed_punctuation)\n",
    "    tweet = tweet.translate(str.maketrans('', '', punctuation_to_remove))\n",
    "    tweet = re.sub(r'\\d+', '', tweet)  # Eliminar números\n",
    "    tweet = tweet.strip()  # Eliminar espacios en exceso\n",
    "    return tweet"
   ]
  },
  {
   "cell_type": "code",
   "execution_count": 6,
   "id": "f1781b00-e241-4c50-b3f0-1e835edd7606",
   "metadata": {},
   "outputs": [
    {
     "name": "stdout",
     "output_type": "stream",
     "text": [
      "\n",
      "Primeros registros del dataset original:\n",
      "                                            tweet\n",
      "0   Me encanta este nuevo producto, es increíble!\n",
      "1     No me gustó el servicio, muy decepcionante.\n",
      "2      El evento estuvo bien, pero puede mejorar.\n",
      "3  ¡Qué día tan maravilloso para salir a caminar!\n",
      "4    La experiencia fue pésima, no lo recomiendo.\n"
     ]
    }
   ],
   "source": [
    "# Cargar el dataset de tweets\n",
    "df = pd.read_csv(\"data/tweets.csv\")\n",
    "print(\"\\nPrimeros registros del dataset original:\")\n",
    "print(df.head())"
   ]
  },
  {
   "cell_type": "code",
   "execution_count": 8,
   "id": "dfdb6ed6-f283-487f-8c40-0a659539415f",
   "metadata": {},
   "outputs": [
    {
     "name": "stdout",
     "output_type": "stream",
     "text": [
      "\n",
      "Primeros registros después de la limpieza:\n",
      "                                            tweet  \\\n",
      "0   Me encanta este nuevo producto, es increíble!   \n",
      "1     No me gustó el servicio, muy decepcionante.   \n",
      "2      El evento estuvo bien, pero puede mejorar.   \n",
      "3  ¡Qué día tan maravilloso para salir a caminar!   \n",
      "4    La experiencia fue pésima, no lo recomiendo.   \n",
      "\n",
      "                                     tweet_limpio  \n",
      "0    me encanta este nuevo producto es increíble!  \n",
      "1       no me gustó el servicio muy decepcionante  \n",
      "2        el evento estuvo bien pero puede mejorar  \n",
      "3  ¡qué día tan maravilloso para salir a caminar!  \n",
      "4      la experiencia fue pésima no lo recomiendo  \n"
     ]
    }
   ],
   "source": [
    "# Aplicar la limpieza de tweets\n",
    "df[\"tweet_limpio\"] = df[\"tweet\"].apply(limpiar_tweet)\n",
    "print(\"\\nPrimeros registros después de la limpieza:\")\n",
    "print(df[[\"tweet\", \"tweet_limpio\"]].head())"
   ]
  },
  {
   "cell_type": "code",
   "execution_count": 10,
   "id": "bc031618-4fbe-4078-9fd3-58436415f63b",
   "metadata": {},
   "outputs": [
    {
     "name": "stderr",
     "output_type": "stream",
     "text": [
      "C:\\Users\\gm_me\\Data Analist Portfolio\\Tweet Sentiment\\env\\lib\\site-packages\\sklearn\\base.py:380: InconsistentVersionWarning: Trying to unpickle estimator CountVectorizer from version 0.23.2 when using version 1.6.1. This might lead to breaking code or invalid results. Use at your own risk. For more info please refer to:\n",
      "https://scikit-learn.org/stable/model_persistence.html#security-maintainability-limitations\n",
      "  warnings.warn(\n",
      "C:\\Users\\gm_me\\Data Analist Portfolio\\Tweet Sentiment\\env\\lib\\site-packages\\sklearn\\base.py:380: InconsistentVersionWarning: Trying to unpickle estimator MultinomialNB from version 0.23.2 when using version 1.6.1. This might lead to breaking code or invalid results. Use at your own risk. For more info please refer to:\n",
      "https://scikit-learn.org/stable/model_persistence.html#security-maintainability-limitations\n",
      "  warnings.warn(\n"
     ]
    }
   ],
   "source": [
    "# Inicializar el analizador de sentimientos para español\n",
    "analyzer = SentimentAnalysisSpanish()"
   ]
  },
  {
   "cell_type": "code",
   "execution_count": 11,
   "id": "7d082c40-80b3-4367-99a5-b8a09793ae12",
   "metadata": {},
   "outputs": [],
   "source": [
    "# Función para obtener el puntaje de sentimiento (valor entre 0 y 1)\n",
    "def obtener_sentimiento_es(texto):\n",
    "    score = analyzer.sentiment(texto)\n",
    "    return score"
   ]
  },
  {
   "cell_type": "code",
   "execution_count": 14,
   "id": "ccc92a95-9460-441a-8cb6-df88215eee7d",
   "metadata": {},
   "outputs": [],
   "source": [
    "# Aplicar el análisis de sentimiento\n",
    "df[\"sentimiento\"] = df[\"tweet_limpio\"].apply(obtener_sentimiento_es)"
   ]
  },
  {
   "cell_type": "code",
   "execution_count": 16,
   "id": "7aeeca27-2773-48c3-9818-b557855ce142",
   "metadata": {},
   "outputs": [],
   "source": [
    "# Función para clasificar el sentimiento basado en el puntaje (umbrales ajustables)\n",
    "def clasificar_sentimiento(score):\n",
    "    if score > 0.55:\n",
    "        return \"positivo\"\n",
    "    elif score < 0.45:\n",
    "        return \"negativo\"\n",
    "    else:\n",
    "        return \"neutro\""
   ]
  },
  {
   "cell_type": "code",
   "execution_count": 18,
   "id": "47521d06-5d69-4741-bd6d-8bc8cae56b3e",
   "metadata": {},
   "outputs": [
    {
     "name": "stdout",
     "output_type": "stream",
     "text": [
      "\n",
      "Ejemplo de tweets con puntaje y clasificación:\n",
      "                                               tweet  \\\n",
      "0      Me encanta este nuevo producto, es increíble!   \n",
      "1        No me gustó el servicio, muy decepcionante.   \n",
      "2         El evento estuvo bien, pero puede mejorar.   \n",
      "3     ¡Qué día tan maravilloso para salir a caminar!   \n",
      "4       La experiencia fue pésima, no lo recomiendo.   \n",
      "5  Estoy muy emocionado con las novedades de la m...   \n",
      "6      El soporte técnico fue lento y poco efectivo.   \n",
      "7  Excelente atención al cliente, realmente satis...   \n",
      "8          El ambiente en el local era muy acogedor.   \n",
      "9      Me dejó indiferente, esperaba más innovación.   \n",
      "\n",
      "                                        tweet_limpio   sentimiento  \\\n",
      "0       me encanta este nuevo producto es increíble!  9.849512e-01   \n",
      "1          no me gustó el servicio muy decepcionante  1.450843e-02   \n",
      "2           el evento estuvo bien pero puede mejorar  6.754765e-02   \n",
      "3     ¡qué día tan maravilloso para salir a caminar!  7.946299e-01   \n",
      "4         la experiencia fue pésima no lo recomiendo  1.613200e-07   \n",
      "5  estoy muy emocionado con las novedades de la m...  2.497810e-01   \n",
      "6       el soporte técnico fue lento y poco efectivo  9.934573e-02   \n",
      "7  excelente atención al cliente realmente satisf...  9.867594e-01   \n",
      "8           el ambiente en el local era muy acogedor  8.436349e-01   \n",
      "9        me dejó indiferente esperaba más innovación  3.947999e-02   \n",
      "\n",
      "  etiqueta_sentimiento  \n",
      "0             positivo  \n",
      "1             negativo  \n",
      "2             negativo  \n",
      "3             positivo  \n",
      "4             negativo  \n",
      "5             negativo  \n",
      "6             negativo  \n",
      "7             positivo  \n",
      "8             positivo  \n",
      "9             negativo  \n"
     ]
    }
   ],
   "source": [
    "df[\"etiqueta_sentimiento\"] = df[\"sentimiento\"].apply(clasificar_sentimiento)\n",
    "print(\"\\nEjemplo de tweets con puntaje y clasificación:\")\n",
    "print(df[[\"tweet\", \"tweet_limpio\", \"sentimiento\", \"etiqueta_sentimiento\"]].head(10))"
   ]
  },
  {
   "cell_type": "code",
   "execution_count": 20,
   "id": "42317d7d-0a44-4474-bb27-d5522de4f687",
   "metadata": {},
   "outputs": [
    {
     "data": {
      "image/png": "[encoded data removed]",
      "text/plain": [
       "<Figure size 1000x600 with 1 Axes>"
      ]
     },
     "metadata": {},
     "output_type": "display_data"
    }
   ],
   "source": [
    "# Visualización: Histograma de puntajes de sentimiento\n",
    "plt.figure(figsize=(10, 6))\n",
    "plt.hist(df[\"sentimiento\"], bins=20, color=\"skyblue\", edgecolor=\"black\")\n",
    "plt.title(\"Distribución de Puntajes de Sentimiento (sentiment_analysis_spanish)\")\n",
    "plt.xlabel(\"Puntaje de Sentimiento\")\n",
    "plt.ylabel(\"Frecuencia\")\n",
    "plt.show()"
   ]
  },
  {
   "cell_type": "code",
   "execution_count": 22,
   "id": "65668791-e206-45ab-b707-c2f8fa8a1258",
   "metadata": {},
   "outputs": [
    {
     "data": {
      "image/png": "[encoded data removed]",
      "text/plain": [
       "<Figure size 800x500 with 1 Axes>"
      ]
     },
     "metadata": {},
     "output_type": "display_data"
    }
   ],
   "source": [
    "# Visualización: Distribución de etiquetas de sentimiento\n",
    "plt.figure(figsize=(8, 5))\n",
    "df[\"etiqueta_sentimiento\"].value_counts().plot(kind=\"bar\", color=[\"salmon\", \"grey\", \"lightgreen\"])\n",
    "plt.title(\"Distribución de Etiquetas de Sentimiento (sentiment_analysis_spanish)\")\n",
    "plt.xlabel(\"Sentimiento\")\n",
    "plt.ylabel(\"Cantidad\")\n",
    "plt.tight_layout()\n",
    "plt.show()"
   ]
  },
  {
   "cell_type": "code",
   "execution_count": null,
   "id": "6ebd1413-d663-45b5-a5a0-175feed9f6f6",
   "metadata": {},
   "outputs": [],
   "source": []
  }
 ],
 "metadata": {
  "kernelspec": {
   "display_name": "Python (env)",
   "language": "python",
   "name": "env"
  },
  "language_info": {
   "codemirror_mode": {
    "name": "ipython",
    "version": 3
   },
   "file_extension": ".py",
   "mimetype": "text/x-python",
   "name": "python",
   "nbconvert_exporter": "python",
   "pygments_lexer": "ipython3",
   "version": "3.10.10"
  }
 },
 "nbformat": 4,
 "nbformat_minor": 5
}
